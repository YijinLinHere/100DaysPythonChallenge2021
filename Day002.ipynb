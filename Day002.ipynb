{
  "nbformat": 4,
  "nbformat_minor": 0,
  "metadata": {
    "colab": {
      "name": "Day002.ipynb",
      "provenance": [],
      "collapsed_sections": [],
      "authorship_tag": "ABX9TyMaru5mHm4SpQm8TRbs2q4k",
      "include_colab_link": true
    },
    "kernelspec": {
      "name": "python3",
      "display_name": "Python 3"
    }
  },
  "cells": [
    {
      "cell_type": "markdown",
      "metadata": {
        "id": "view-in-github",
        "colab_type": "text"
      },
      "source": [
        "<a href=\"https://colab.research.google.com/github/YijinLinHere/100DaysPythonChallenge2021/blob/main/Day002.ipynb\" target=\"_parent\"><img src=\"https://colab.research.google.com/assets/colab-badge.svg\" alt=\"Open In Colab\"/></a>"
      ]
    },
    {
      "cell_type": "code",
      "metadata": {
        "colab": {
          "base_uri": "https://localhost:8080/"
        },
        "id": "_eIfRnRnBmFl",
        "outputId": "df78ff69-1fde-41ae-b641-03040d183a0e"
      },
      "source": [
        "# waana check python version?\r\n",
        "!python --version"
      ],
      "execution_count": null,
      "outputs": [
        {
          "output_type": "stream",
          "text": [
            "Python 3.6.9\n"
          ],
          "name": "stdout"
        }
      ]
    },
    {
      "cell_type": "markdown",
      "metadata": {
        "id": "3o7yTyCC5F5X"
      },
      "source": [
        "# Day 2 - Beginner - Understanding Data Types and How to Manipulate Strings\r\n",
        "\r\n"
      ]
    },
    {
      "cell_type": "markdown",
      "metadata": {
        "id": "ECGNsF5q-J6J"
      },
      "source": [
        "## 17. Python Primitive Data Types\r\n"
      ]
    },
    {
      "cell_type": "code",
      "metadata": {
        "colab": {
          "base_uri": "https://localhost:8080/"
        },
        "id": "HMr743R45diD",
        "outputId": "333d5599-532f-4034-ecca-37bcc3b17f08"
      },
      "source": [
        "# let's check the length of this string\r\n",
        "print(len(\"hello\"))"
      ],
      "execution_count": null,
      "outputs": [
        {
          "output_type": "stream",
          "text": [
            "5\n"
          ],
          "name": "stdout"
        }
      ]
    },
    {
      "cell_type": "code",
      "metadata": {
        "colab": {
          "base_uri": "https://localhost:8080/",
          "height": 175
        },
        "id": "M2Kl8Vv25jHe",
        "outputId": "eea98fee-77e1-49ef-a3ff-3f5f16191e24"
      },
      "source": [
        "# why we get an error? and what does it all about?\r\n",
        "print(len(12345))"
      ],
      "execution_count": null,
      "outputs": [
        {
          "output_type": "error",
          "ename": "TypeError",
          "evalue": "ignored",
          "traceback": [
            "\u001b[0;31m---------------------------------------------------------------------------\u001b[0m",
            "\u001b[0;31mTypeError\u001b[0m                                 Traceback (most recent call last)",
            "\u001b[0;32m<ipython-input-3-7a4479b9e00a>\u001b[0m in \u001b[0;36m<module>\u001b[0;34m()\u001b[0m\n\u001b[0;32m----> 1\u001b[0;31m \u001b[0mprint\u001b[0m\u001b[0;34m(\u001b[0m\u001b[0mlen\u001b[0m\u001b[0;34m(\u001b[0m\u001b[0;36m12345\u001b[0m\u001b[0;34m)\u001b[0m\u001b[0;34m)\u001b[0m\u001b[0;34m\u001b[0m\u001b[0;34m\u001b[0m\u001b[0m\n\u001b[0m",
            "\u001b[0;31mTypeError\u001b[0m: object of type 'int' has no len()"
          ]
        }
      ]
    },
    {
      "cell_type": "code",
      "metadata": {
        "colab": {
          "base_uri": "https://localhost:8080/"
        },
        "id": "ouPldbxg4pGJ",
        "outputId": "2fff65f9-3bbb-4937-9524-7b3b2243a9e3"
      },
      "source": [
        "# we have string, integer, float, boolean\r\n",
        "# string: 'a', 'apple', 'delicious dinner', 'today is a good way', etc"
      ],
      "execution_count": null,
      "outputs": [
        {
          "output_type": "stream",
          "text": [
            "z\n"
          ],
          "name": "stdout"
        }
      ]
    },
    {
      "cell_type": "code",
      "metadata": {
        "colab": {
          "base_uri": "https://localhost:8080/"
        },
        "id": "RiszYg-k7oi0",
        "outputId": "bb9eb106-c10c-4bb2-cce5-50c3c70c1b88"
      },
      "source": [
        "# index in a string\r\n",
        "print('abcdefghijklmnopqrstuvwxyz'[25])"
      ],
      "execution_count": null,
      "outputs": [
        {
          "output_type": "stream",
          "text": [
            "z\n"
          ],
          "name": "stdout"
        }
      ]
    },
    {
      "cell_type": "code",
      "metadata": {
        "colab": {
          "base_uri": "https://localhost:8080/"
        },
        "id": "T1MXP0jU7rfv",
        "outputId": "59d66298-0b67-42aa-dd4b-724cb1177146"
      },
      "source": [
        "# concate strings\r\n",
        "print('a for ' + 'apple')\r\n",
        "print('123' + '456')"
      ],
      "execution_count": null,
      "outputs": [
        {
          "output_type": "stream",
          "text": [
            "a for apple\n",
            "123456\n"
          ],
          "name": "stdout"
        }
      ]
    },
    {
      "cell_type": "code",
      "metadata": {
        "colab": {
          "base_uri": "https://localhost:8080/"
        },
        "id": "ip2QMzQE76M7",
        "outputId": "481d54f9-f238-4e83-c1a8-bae403270f48"
      },
      "source": [
        "# integer: -2147483648 ~ 2147483647\r\n",
        "# calculate numbers\r\n",
        "print(123 + 456)"
      ],
      "execution_count": null,
      "outputs": [
        {
          "output_type": "stream",
          "text": [
            "579\n"
          ],
          "name": "stdout"
        }
      ]
    },
    {
      "cell_type": "code",
      "metadata": {
        "colab": {
          "base_uri": "https://localhost:8080/"
        },
        "id": "BDhmeNeH8ODy",
        "outputId": "98e7dc2f-05ab-4f0d-8b68-5aa1b18a9c88"
      },
      "source": [
        "# for latge number 123,456,789\r\n",
        "print(11111111 + 222222222)\r\n",
        "print('='*10)\r\n",
        "\r\n",
        "# python would ignore underline in this case\r\n",
        "# 123456789 = 123_456_789 \r\n",
        "print(111_111_111 + 222_222_222)\r\n",
        "\r\n",
        "# wow, this also works \r\n",
        "print(111_111_1111 + 222_222_2222) "
      ],
      "execution_count": null,
      "outputs": [
        {
          "output_type": "stream",
          "text": [
            "233333333\n",
            "==========\n",
            "333333333\n",
            "3333333333\n"
          ],
          "name": "stdout"
        }
      ]
    },
    {
      "cell_type": "code",
      "metadata": {
        "id": "lL3TglSx9LUf"
      },
      "source": [
        "# float: number with decimal point\r\n",
        "# boolean: True or False"
      ],
      "execution_count": null,
      "outputs": []
    },
    {
      "cell_type": "markdown",
      "metadata": {
        "id": "WrgaczRQ-f4U"
      },
      "source": [
        "## 18. Type Error, Type Checking and Type Conversion\r\n"
      ]
    },
    {
      "cell_type": "code",
      "metadata": {
        "colab": {
          "base_uri": "https://localhost:8080/",
          "height": 231
        },
        "id": "4BzR8J0V9Tqk",
        "outputId": "da016aa4-3059-4ed3-dee1-0d7de03a9242"
      },
      "source": [
        "num_char = len(input('what is your aname? please :) \\r\\n'))\r\n",
        "print('Your name has ' + num_char + ' characters.')"
      ],
      "execution_count": null,
      "outputs": [
        {
          "output_type": "stream",
          "text": [
            "what is your aname? please :) \r\n",
            "Lily\n"
          ],
          "name": "stdout"
        },
        {
          "output_type": "error",
          "ename": "TypeError",
          "evalue": "ignored",
          "traceback": [
            "\u001b[0;31m---------------------------------------------------------------------------\u001b[0m",
            "\u001b[0;31mTypeError\u001b[0m                                 Traceback (most recent call last)",
            "\u001b[0;32m<ipython-input-22-386be0597bf5>\u001b[0m in \u001b[0;36m<module>\u001b[0;34m()\u001b[0m\n\u001b[1;32m      1\u001b[0m \u001b[0mnum_char\u001b[0m \u001b[0;34m=\u001b[0m \u001b[0mlen\u001b[0m\u001b[0;34m(\u001b[0m\u001b[0minput\u001b[0m\u001b[0;34m(\u001b[0m\u001b[0;34m'what is your aname? please :) \\r\\n'\u001b[0m\u001b[0;34m)\u001b[0m\u001b[0;34m)\u001b[0m\u001b[0;34m\u001b[0m\u001b[0;34m\u001b[0m\u001b[0m\n\u001b[0;32m----> 2\u001b[0;31m \u001b[0mprint\u001b[0m\u001b[0;34m(\u001b[0m\u001b[0;34m'Your name has '\u001b[0m \u001b[0;34m+\u001b[0m \u001b[0mnum_char\u001b[0m \u001b[0;34m+\u001b[0m \u001b[0;34m'characters.'\u001b[0m\u001b[0;34m)\u001b[0m\u001b[0;34m\u001b[0m\u001b[0;34m\u001b[0m\u001b[0m\n\u001b[0m",
            "\u001b[0;31mTypeError\u001b[0m: must be str, not int"
          ]
        }
      ]
    },
    {
      "cell_type": "code",
      "metadata": {
        "colab": {
          "base_uri": "https://localhost:8080/"
        },
        "id": "yE4sIge-_LSk",
        "outputId": "fab3a7e0-0fda-41ea-b079-8a47b0c4f388"
      },
      "source": [
        "# let's check what type num_char is\r\n",
        "type(num_char)"
      ],
      "execution_count": null,
      "outputs": [
        {
          "output_type": "execute_result",
          "data": {
            "text/plain": [
              "int"
            ]
          },
          "metadata": {
            "tags": []
          },
          "execution_count": 24
        }
      ]
    },
    {
      "cell_type": "code",
      "metadata": {
        "colab": {
          "base_uri": "https://localhost:8080/"
        },
        "id": "Rl9rypyg_N4R",
        "outputId": "1614d8ce-05d9-473f-e288-923cd5b596b8"
      },
      "source": [
        "# it's intefer, and we should change it to str(string)\r\n",
        "type(str(num_char))"
      ],
      "execution_count": null,
      "outputs": [
        {
          "output_type": "execute_result",
          "data": {
            "text/plain": [
              "str"
            ]
          },
          "metadata": {
            "tags": []
          },
          "execution_count": 28
        }
      ]
    },
    {
      "cell_type": "code",
      "metadata": {
        "colab": {
          "base_uri": "https://localhost:8080/"
        },
        "id": "OkofvN5c_5X9",
        "outputId": "f2e28602-5f08-49f4-fda2-3ce90d681775"
      },
      "source": [
        "num_char = len(input('what is your aname? please :) \\r\\n'))\r\n",
        "print('Your name has ' + str(num_char) + ' characters.')"
      ],
      "execution_count": null,
      "outputs": [
        {
          "output_type": "stream",
          "text": [
            "what is your aname? please :) \r\n",
            "Lily\n",
            "Your name has 4 characters.\n"
          ],
          "name": "stdout"
        }
      ]
    },
    {
      "cell_type": "code",
      "metadata": {
        "colab": {
          "base_uri": "https://localhost:8080/"
        },
        "id": "adBPxQ8fAO6t",
        "outputId": "5bc24a29-9794-4913-c07c-002c36360da9"
      },
      "source": [
        "a = 123\r\n",
        "print(type(a))\r\n",
        "\r\n",
        "a = str(123)\r\n",
        "print(type(a))\r\n",
        "\r\n",
        "a = float(123)\r\n",
        "print(type(a))"
      ],
      "execution_count": null,
      "outputs": [
        {
          "output_type": "stream",
          "text": [
            "<class 'int'>\n",
            "<class 'str'>\n",
            "<class 'float'>\n"
          ],
          "name": "stdout"
        }
      ]
    },
    {
      "cell_type": "code",
      "metadata": {
        "colab": {
          "base_uri": "https://localhost:8080/"
        },
        "id": "7ZqLzWAAAYDB",
        "outputId": "9fdf2cc2-68b8-4c98-a36e-0f4abd05af30"
      },
      "source": [
        "# int + flaot = flaot\r\n",
        "print(100 + float('100.5'))\r\n",
        "\r\n",
        "# int + int   = int\r\n",
        "print(100 + int(100))\r\n",
        "\r\n",
        "# string + string = string\r\n",
        "print(str(100) + str(100))"
      ],
      "execution_count": null,
      "outputs": [
        {
          "output_type": "stream",
          "text": [
            "200.5\n",
            "200\n",
            "100100\n"
          ],
          "name": "stdout"
        }
      ]
    },
    {
      "cell_type": "markdown",
      "metadata": {
        "id": "IKWn37lnB7T0"
      },
      "source": [
        "## 19. [Interactive Coding Exercise] Data Types\r\n",
        "\r\n",
        "# Instructions\r\n",
        "\r\n",
        "Write a program that adds the digits in a 2 digit number. e.g. if the input was 35, then the output should be 3 + 5 = 8\r\n",
        "\r\n",
        "**Warning.** Do not change the code on lines 1-3. Your program should work for different inputs. e.g. any two-digit number.\r\n",
        "\r\n",
        "# Example Input\r\n",
        "\r\n",
        "```\r\n",
        "39\r\n",
        "```\r\n",
        "\r\n",
        "# Example Output\r\n",
        "\r\n",
        "3 + 9 = 12\r\n",
        "\r\n",
        "```\r\n",
        "12\r\n",
        "```\r\n",
        "\r\n",
        "e.g. When you hit **run**, this is what should happen:  \r\n",
        "\r\n",
        "![](https://cdn.fs.teachablecdn.com/iyJTPDDRRJCB1gmdVQMS)\r\n",
        "\r\n",
        "# Hint\r\n",
        "\r\n",
        "1. Try to find out the data type of two_digit_number.\r\n",
        "2. Think about what you learnt about subscripting.\r\n",
        "3. Think about type conversion.\r\n",
        "\r\n",
        "Go check following link for more information: link: https://repl.it/@appbrewery/day-2-1-exercise#README.md"
      ]
    },
    {
      "cell_type": "code",
      "metadata": {
        "colab": {
          "base_uri": "https://localhost:8080/"
        },
        "id": "JKP2ithWAxOr",
        "outputId": "41bd76ca-e44d-46d0-e0c6-0449bd537c5b"
      },
      "source": [
        "# 🚨 Don't change the code below 👇\r\n",
        "two_digit_number = input(\"Type a two digit number: \")\r\n",
        "# 🚨 Don't change the code above 👆\r\n",
        "\r\n",
        "####################################\r\n",
        "#Write your code below this line 👇\r\n",
        "print((int(two_digit_number[0])) + (int(two_digit_number[1])))"
      ],
      "execution_count": null,
      "outputs": [
        {
          "output_type": "stream",
          "text": [
            "Type a two digit number: 99\n",
            "18\n"
          ],
          "name": "stdout"
        }
      ]
    },
    {
      "cell_type": "markdown",
      "metadata": {
        "id": "qHk-kmZUD13P"
      },
      "source": [
        "## 20. Mathematical Operations in Python\r\n"
      ]
    },
    {
      "cell_type": "code",
      "metadata": {
        "colab": {
          "base_uri": "https://localhost:8080/"
        },
        "id": "OUUnIgxrD1YJ",
        "outputId": "0841e104-e8b8-4897-eb12-65b18207a47d"
      },
      "source": [
        "# + stands for add\r\n",
        "# - stands for substraction\r\n",
        "# * stands for multiply\r\n",
        "# / stands for division\r\n",
        "# ** stands for power\r\n",
        "\r\n",
        "# it's float!\r\n",
        "print(type(6/3))"
      ],
      "execution_count": null,
      "outputs": [
        {
          "output_type": "stream",
          "text": [
            "<class 'float'>\n"
          ],
          "name": "stdout"
        }
      ]
    },
    {
      "cell_type": "code",
      "metadata": {
        "colab": {
          "base_uri": "https://localhost:8080/"
        },
        "id": "rlyh8WOSEKJ4",
        "outputId": "a447edda-62df-4f2a-d7e1-e36772d1b5de"
      },
      "source": [
        "# 2^10\r\n",
        "print(2**10)"
      ],
      "execution_count": null,
      "outputs": [
        {
          "output_type": "stream",
          "text": [
            "1024\n"
          ],
          "name": "stdout"
        }
      ]
    },
    {
      "cell_type": "code",
      "metadata": {
        "id": "zB_cJyHtEjqC"
      },
      "source": [
        "# *** priority class ***\r\n",
        "# PEMDAS            \r\n",
        "# Paremtheses       ()\r\n",
        "# Exponents         **\r\n",
        "# Multiplication    *\r\n",
        "# Division          /\r\n",
        "# Addition          +\r\n",
        "# Substraction      -"
      ],
      "execution_count": null,
      "outputs": []
    },
    {
      "cell_type": "code",
      "metadata": {
        "colab": {
          "base_uri": "https://localhost:8080/"
        },
        "id": "fcsfX-zLHo1a",
        "outputId": "90295a7b-ae51-4406-d6a1-04fb3e025acd"
      },
      "source": [
        "print(3*3 + 3/3 - 3)"
      ],
      "execution_count": null,
      "outputs": [
        {
          "output_type": "stream",
          "text": [
            "7.0\n"
          ],
          "name": "stdout"
        }
      ]
    },
    {
      "cell_type": "code",
      "metadata": {
        "colab": {
          "base_uri": "https://localhost:8080/"
        },
        "id": "tSg6nuCvH80B",
        "outputId": "6cea482f-478d-48e5-ee67-d07dde0838ab"
      },
      "source": [
        "print(3* (3 + 3) /3 - 3)"
      ],
      "execution_count": null,
      "outputs": [
        {
          "output_type": "stream",
          "text": [
            "3.0\n"
          ],
          "name": "stdout"
        }
      ]
    },
    {
      "cell_type": "markdown",
      "metadata": {
        "id": "_6-bYlA7IGdg"
      },
      "source": [
        "## 21. [Interactive Coding Exercise] BMI Calculator\r\n",
        "\r\n",
        "https://repl.it/@appbrewery/day-2-2-exercise#README.md\r\n",
        "\r\n",
        "# Instructions\r\n",
        "\r\n",
        "Write a program that calculates the Body Mass Index (BMI) from a user's weight and height.\r\n",
        "\r\n",
        "The BMI is a measure of some's weight taking into account their height. e.g. If a tall person and a short person both weigh the same amount, the short person is usually more overweight.\r\n",
        "\r\n",
        "The BMI is calculated by dividing a person's weight (in kg) by the square of their height (in m):\r\n",
        "\r\n",
        "![](https://cdn.fs.teachablecdn.com/jKHjnLrNQjqzdz3MTMyv)\r\n",
        "\r\n",
        "**Warning** you should convert the result to a whole number. \r\n",
        "\r\n",
        "# Example Input\r\n",
        "\r\n",
        "```\r\n",
        "weight = 80\r\n",
        "```\r\n",
        "\r\n",
        "```\r\n",
        "height = 1.75\r\n",
        "```\r\n",
        "\r\n",
        "# Example Output\r\n",
        "\r\n",
        "80 ÷ (1.75 x 1.75) =  26.122448979591837\r\n",
        "\r\n",
        "```\r\n",
        "26\r\n",
        "```\r\n",
        "\r\n",
        "e.g. When you hit **run**, this is what should happen:  \r\n",
        "\r\n",
        "![](https://cdn.fs.teachablecdn.com/wmjVjddeSmGj0QVtOUrE)\r\n",
        "\r\n",
        "# Hint\r\n",
        "\r\n",
        "1. Check the data type of the inputs.\r\n",
        "2. Try to use the exponent operator in your code.\r\n",
        "3. Remember PEMDAS.\r\n",
        "4. Remember to convert your result to a whole number (int). \r\n",
        "\r\n",
        "# Test Your Code\r\n",
        "\r\n",
        "Before checking the solution, try copy-pasting your code into this repl: \r\n",
        "\r\n",
        "[https://repl.it/@appbrewery/day-2-2-test-your-code](https://repl.it/@appbrewery/day-2-2-test-your-code)\r\n",
        "\r\n",
        "This repl includes my testing code that will check if your code meets this assignment's objectives. \r\n",
        "\r\n",
        "\r\n",
        "\r\n",
        "# Solution\r\n",
        "\r\n",
        "[https://repl.it/@appbrewery/day-2-2-solution](https://repl.it/@appbrewery/day-2-2-solution)"
      ]
    },
    {
      "cell_type": "code",
      "metadata": {
        "colab": {
          "base_uri": "https://localhost:8080/"
        },
        "id": "A5XjRhhoIihi",
        "outputId": "65cc6590-9cb6-4082-b5fb-e52292a459d3"
      },
      "source": [
        "# 🚨 Don't change the code below 👇\r\n",
        "height = input(\"enter your height in m: \")\r\n",
        "weight = input(\"enter your weight in kg: \")\r\n",
        "# 🚨 Don't change the code above 👆\r\n",
        "\r\n",
        "#Write your code below this line 👇\r\n",
        "\r\n",
        "f_height = float(height)\r\n",
        "f_weight = float(weight)\r\n",
        "\r\n",
        "int_BMI = int(f_weight / (f_height ** 2))\r\n",
        "print(int_BMI)"
      ],
      "execution_count": null,
      "outputs": [
        {
          "output_type": "stream",
          "text": [
            "enter your height in m: 1.75\n",
            "enter your weight in kg: 80\n",
            "26\n"
          ],
          "name": "stdout"
        }
      ]
    },
    {
      "cell_type": "markdown",
      "metadata": {
        "id": "zSxvIuFGJwW8"
      },
      "source": [
        "## 22. Number Manipulation and F Strings in Python\r\n"
      ]
    },
    {
      "cell_type": "code",
      "metadata": {
        "id": "IPfFSc4_Jv8F",
        "colab": {
          "base_uri": "https://localhost:8080/"
        },
        "outputId": "c0301971-bdbb-4e43-9b26-0fe6a8290bb1"
      },
      "source": [
        "# (1) rounding numbers\r\n",
        "print(8/3)"
      ],
      "execution_count": 56,
      "outputs": [
        {
          "output_type": "stream",
          "text": [
            "2.6666666666666665\n"
          ],
          "name": "stdout"
        }
      ]
    },
    {
      "cell_type": "code",
      "metadata": {
        "colab": {
          "base_uri": "https://localhost:8080/"
        },
        "id": "z6Cb5ieuVcy8",
        "outputId": "572cc632-77f7-4314-c7cf-fb1b7ff31a86"
      },
      "source": [
        "# using 'round' function\r\n",
        "# < 2.4 => 2\r\n",
        "# > 2.5 => 3\r\n",
        "print(round(8/3))"
      ],
      "execution_count": 57,
      "outputs": [
        {
          "output_type": "stream",
          "text": [
            "3\n"
          ],
          "name": "stdout"
        }
      ]
    },
    {
      "cell_type": "code",
      "metadata": {
        "colab": {
          "base_uri": "https://localhost:8080/"
        },
        "id": "QMTfCE7nVoYj",
        "outputId": "97dda4fb-5561-42ea-85ed-c99be3565159"
      },
      "source": [
        "print(round(2.66666, 2))"
      ],
      "execution_count": 59,
      "outputs": [
        {
          "output_type": "stream",
          "text": [
            "2.67\n"
          ],
          "name": "stdout"
        }
      ]
    },
    {
      "cell_type": "code",
      "metadata": {
        "colab": {
          "base_uri": "https://localhost:8080/"
        },
        "id": "8yWFCknqWW2E",
        "outputId": "6f406046-34ba-45c7-f7c6-ed50bc95ea0c"
      },
      "source": [
        "# (2) +1= & += 1\r\n",
        "score = 10\r\n",
        "score = score + 10\r\n",
        "score += 10\r\n",
        "print(score)"
      ],
      "execution_count": 61,
      "outputs": [
        {
          "output_type": "stream",
          "text": [
            "30\n"
          ],
          "name": "stdout"
        }
      ]
    },
    {
      "cell_type": "code",
      "metadata": {
        "colab": {
          "base_uri": "https://localhost:8080/"
        },
        "id": "MGMMJUO7WyDy",
        "outputId": "3291de0a-1f54-4834-c4b9-041b48c44e91"
      },
      "source": [
        "score = 1024\r\n",
        "score = score/2\r\n",
        "score /=2\r\n",
        "print(score)"
      ],
      "execution_count": 63,
      "outputs": [
        {
          "output_type": "stream",
          "text": [
            "256.0\n",
            "your final iscore is 256.0\n"
          ],
          "name": "stdout"
        }
      ]
    },
    {
      "cell_type": "code",
      "metadata": {
        "colab": {
          "base_uri": "https://localhost:8080/"
        },
        "id": "1ywBqUvnXjOh",
        "outputId": "56126dd8-2b76-442d-dfca-976673dacbcd"
      },
      "source": [
        "score = 80\r\n",
        "height = 1.8\r\n",
        "isWinning = True\r\n",
        "# f-string\r\n",
        "print(f\"Your final iscore is {score}, your height is {height}, and your winning status is {isWinning}\")\r\n",
        "\r\n",
        "# string format\r\n",
        "print(\"Your final iscore is {}, your height is {}, and your winning status is {}\".format(score, height, isWinning))\r\n"
      ],
      "execution_count": 65,
      "outputs": [
        {
          "output_type": "stream",
          "text": [
            "Your final iscore is 80, your height is 1.8, and your winning status is True\n",
            "Your final iscore is 80, your height is 1.8, and your winning status is True\n"
          ],
          "name": "stdout"
        }
      ]
    },
    {
      "cell_type": "markdown",
      "metadata": {
        "id": "AsFzQQFqYRDU"
      },
      "source": [
        "## 23. [Interactive Coding Exercise] Life in Weeks\r\n",
        "\r\n",
        "# Instructions\r\n",
        "\r\n",
        "I was reading this article by Tim Urban - Your Life in Weeks and realised just how little time we actually have.\r\n",
        "\r\n",
        "[https://waitbutwhy.com/2014/05/life-weeks.html](https://waitbutwhy.com/2014/05/life-weeks.html)\r\n",
        "\r\n",
        "Create a program using maths and f-Strings that tells us how many days, weeks, months we have left if we live until 90 years old. \r\n",
        "\r\n",
        "It will take your current age as the input and output a message with our time left in this format:\r\n",
        "\r\n",
        "> You have x days, y weeks, and z months left. \r\n",
        "\r\n",
        "Where x, y and z are replaced with the actual calculated numbers. \r\n",
        "\r\n",
        " \r\n",
        "\r\n",
        "**Warning** your output should match the Example Output format exactly, even the positions of the commas and full stops. \r\n",
        "\r\n",
        "# Example Input\r\n",
        "\r\n",
        "```\r\n",
        "56\r\n",
        "```\r\n",
        "\r\n",
        "# Example Output\r\n",
        "\r\n",
        "```\r\n",
        "You have 12410 days, 1768 weeks, and 408 months left.\r\n",
        "```\r\n",
        "\r\n",
        "e.g. When you hit **run**, this is what should happen:  \r\n",
        "\r\n",
        " \r\n",
        "![](https://cdn.fs.teachablecdn.com/RjqBViZQpyVTv7XY6cfA)\r\n",
        " \r\n",
        "\r\n",
        "# Hint\r\n",
        "\r\n",
        "1. There are 365 days in a year, 52 weeks in a year and 12 months in a year.\r\n",
        "2. Try copying the example output into your code and replace the relevant parts so that the sentence is formated the same way.\r\n",
        "\r\n",
        "# Test Your Code\r\n",
        "\r\n",
        "Before checking the solution, try copy-pasting your code into this repl: \r\n",
        "\r\n",
        "[https://repl.it/@appbrewery/day-2-3-test-your-code](https://repl.it/@appbrewery/day-2-3-test-your-code)\r\n",
        "\r\n",
        "This repl includes my testing code that will check if your code meets this assignment's objectives. \r\n",
        "\r\n",
        "\r\n",
        "# Solution\r\n",
        "\r\n",
        "[https://repl.it/@appbrewery/day-2-3-solution](https://repl.it/@appbrewery/day-2-3-solution)"
      ]
    },
    {
      "cell_type": "code",
      "metadata": {
        "id": "gmY9I1a7YQSj"
      },
      "source": [
        "# 🚨 Don't change the code below 👇\r\n",
        "age = input(\"What is your current age?\")\r\n",
        "# 🚨 Don't change the code above 👆\r\n",
        "\r\n",
        "#Write your code below this line 👇\r\n",
        "\r\n",
        "\r\n",
        "\r\n",
        "\r\n",
        "\r\n",
        "\r\n",
        "\r\n",
        "\r\n",
        "\r\n"
      ],
      "execution_count": null,
      "outputs": []
    }
  ]
}