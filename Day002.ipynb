{
  "nbformat": 4,
  "nbformat_minor": 0,
  "metadata": {
    "colab": {
      "name": "Day002.ipynb",
      "provenance": [],
      "collapsed_sections": [],
      "authorship_tag": "ABX9TyNcoldjtazmgSPWQSquZuki",
      "include_colab_link": true
    },
    "kernelspec": {
      "name": "python3",
      "display_name": "Python 3"
    }
  },
  "cells": [
    {
      "cell_type": "markdown",
      "metadata": {
        "id": "view-in-github",
        "colab_type": "text"
      },
      "source": [
        "<a href=\"https://colab.research.google.com/github/YijinLinHere/100DaysPythonChallenge2021/blob/main/Day002.ipynb\" target=\"_parent\"><img src=\"https://colab.research.google.com/assets/colab-badge.svg\" alt=\"Open In Colab\"/></a>"
      ]
    },
    {
      "cell_type": "markdown",
      "metadata": {
        "id": "3o7yTyCC5F5X"
      },
      "source": [
        "# Day 2 - Beginner - Understanding Data Types and How to Manipulate Strings\r\n",
        "\r\n"
      ]
    },
    {
      "cell_type": "markdown",
      "metadata": {
        "id": "ECGNsF5q-J6J"
      },
      "source": [
        "## Video 17. Python Primitive Data Types\r\n"
      ]
    },
    {
      "cell_type": "code",
      "metadata": {
        "colab": {
          "base_uri": "https://localhost:8080/"
        },
        "id": "HMr743R45diD",
        "outputId": "333d5599-532f-4034-ecca-37bcc3b17f08"
      },
      "source": [
        "# let's check the length of this string\r\n",
        "print(len(\"hello\"))"
      ],
      "execution_count": 1,
      "outputs": [
        {
          "output_type": "stream",
          "text": [
            "5\n"
          ],
          "name": "stdout"
        }
      ]
    },
    {
      "cell_type": "code",
      "metadata": {
        "colab": {
          "base_uri": "https://localhost:8080/",
          "height": 175
        },
        "id": "M2Kl8Vv25jHe",
        "outputId": "eea98fee-77e1-49ef-a3ff-3f5f16191e24"
      },
      "source": [
        "# why we get an error? and what does it all about?\r\n",
        "print(len(12345))"
      ],
      "execution_count": 3,
      "outputs": [
        {
          "output_type": "error",
          "ename": "TypeError",
          "evalue": "ignored",
          "traceback": [
            "\u001b[0;31m---------------------------------------------------------------------------\u001b[0m",
            "\u001b[0;31mTypeError\u001b[0m                                 Traceback (most recent call last)",
            "\u001b[0;32m<ipython-input-3-7a4479b9e00a>\u001b[0m in \u001b[0;36m<module>\u001b[0;34m()\u001b[0m\n\u001b[0;32m----> 1\u001b[0;31m \u001b[0mprint\u001b[0m\u001b[0;34m(\u001b[0m\u001b[0mlen\u001b[0m\u001b[0;34m(\u001b[0m\u001b[0;36m12345\u001b[0m\u001b[0;34m)\u001b[0m\u001b[0;34m)\u001b[0m\u001b[0;34m\u001b[0m\u001b[0;34m\u001b[0m\u001b[0m\n\u001b[0m",
            "\u001b[0;31mTypeError\u001b[0m: object of type 'int' has no len()"
          ]
        }
      ]
    },
    {
      "cell_type": "code",
      "metadata": {
        "colab": {
          "base_uri": "https://localhost:8080/"
        },
        "id": "ouPldbxg4pGJ",
        "outputId": "2fff65f9-3bbb-4937-9524-7b3b2243a9e3"
      },
      "source": [
        "# we have string, integer, float, boolean\r\n",
        "# string: 'a', 'apple', 'delicious dinner', 'today is a good way', etc"
      ],
      "execution_count": 6,
      "outputs": [
        {
          "output_type": "stream",
          "text": [
            "z\n"
          ],
          "name": "stdout"
        }
      ]
    },
    {
      "cell_type": "code",
      "metadata": {
        "colab": {
          "base_uri": "https://localhost:8080/"
        },
        "id": "RiszYg-k7oi0",
        "outputId": "bb9eb106-c10c-4bb2-cce5-50c3c70c1b88"
      },
      "source": [
        "# index in a string\r\n",
        "print('abcdefghijklmnopqrstuvwxyz'[25])"
      ],
      "execution_count": 7,
      "outputs": [
        {
          "output_type": "stream",
          "text": [
            "z\n"
          ],
          "name": "stdout"
        }
      ]
    },
    {
      "cell_type": "code",
      "metadata": {
        "colab": {
          "base_uri": "https://localhost:8080/"
        },
        "id": "T1MXP0jU7rfv",
        "outputId": "59d66298-0b67-42aa-dd4b-724cb1177146"
      },
      "source": [
        "# concate strings\r\n",
        "print('a for ' + 'apple')\r\n",
        "print('123' + '456')"
      ],
      "execution_count": 9,
      "outputs": [
        {
          "output_type": "stream",
          "text": [
            "a for apple\n",
            "123456\n"
          ],
          "name": "stdout"
        }
      ]
    },
    {
      "cell_type": "code",
      "metadata": {
        "colab": {
          "base_uri": "https://localhost:8080/"
        },
        "id": "ip2QMzQE76M7",
        "outputId": "481d54f9-f238-4e83-c1a8-bae403270f48"
      },
      "source": [
        "# integer: -2147483648 ~ 2147483647\r\n",
        "# calculate numbers\r\n",
        "print(123 + 456)"
      ],
      "execution_count": 10,
      "outputs": [
        {
          "output_type": "stream",
          "text": [
            "579\n"
          ],
          "name": "stdout"
        }
      ]
    },
    {
      "cell_type": "code",
      "metadata": {
        "colab": {
          "base_uri": "https://localhost:8080/"
        },
        "id": "BDhmeNeH8ODy",
        "outputId": "98e7dc2f-05ab-4f0d-8b68-5aa1b18a9c88"
      },
      "source": [
        "# for latge number 123,456,789\r\n",
        "print(11111111 + 222222222)\r\n",
        "print('='*10)\r\n",
        "\r\n",
        "# python would ignore underline in this case\r\n",
        "# 123456789 = 123_456_789 \r\n",
        "print(111_111_111 + 222_222_222)\r\n",
        "\r\n",
        "# wow, this also works \r\n",
        "print(111_111_1111 + 222_222_2222) "
      ],
      "execution_count": 19,
      "outputs": [
        {
          "output_type": "stream",
          "text": [
            "233333333\n",
            "==========\n",
            "333333333\n",
            "3333333333\n"
          ],
          "name": "stdout"
        }
      ]
    },
    {
      "cell_type": "code",
      "metadata": {
        "id": "lL3TglSx9LUf"
      },
      "source": [
        "# float: number with decimal point\r\n",
        "# boolean: True or False"
      ],
      "execution_count": null,
      "outputs": []
    },
    {
      "cell_type": "markdown",
      "metadata": {
        "id": "WrgaczRQ-f4U"
      },
      "source": [
        "## Video 18. Type Error, Type Checking and Type Conversion\r\n"
      ]
    },
    {
      "cell_type": "code",
      "metadata": {
        "colab": {
          "base_uri": "https://localhost:8080/",
          "height": 231
        },
        "id": "4BzR8J0V9Tqk",
        "outputId": "da016aa4-3059-4ed3-dee1-0d7de03a9242"
      },
      "source": [
        "num_char = len(input('what is your aname? please :) \\r\\n'))\r\n",
        "print('Your name has ' + num_char + ' characters.')"
      ],
      "execution_count": 22,
      "outputs": [
        {
          "output_type": "stream",
          "text": [
            "what is your aname? please :) \r\n",
            "Lily\n"
          ],
          "name": "stdout"
        },
        {
          "output_type": "error",
          "ename": "TypeError",
          "evalue": "ignored",
          "traceback": [
            "\u001b[0;31m---------------------------------------------------------------------------\u001b[0m",
            "\u001b[0;31mTypeError\u001b[0m                                 Traceback (most recent call last)",
            "\u001b[0;32m<ipython-input-22-386be0597bf5>\u001b[0m in \u001b[0;36m<module>\u001b[0;34m()\u001b[0m\n\u001b[1;32m      1\u001b[0m \u001b[0mnum_char\u001b[0m \u001b[0;34m=\u001b[0m \u001b[0mlen\u001b[0m\u001b[0;34m(\u001b[0m\u001b[0minput\u001b[0m\u001b[0;34m(\u001b[0m\u001b[0;34m'what is your aname? please :) \\r\\n'\u001b[0m\u001b[0;34m)\u001b[0m\u001b[0;34m)\u001b[0m\u001b[0;34m\u001b[0m\u001b[0;34m\u001b[0m\u001b[0m\n\u001b[0;32m----> 2\u001b[0;31m \u001b[0mprint\u001b[0m\u001b[0;34m(\u001b[0m\u001b[0;34m'Your name has '\u001b[0m \u001b[0;34m+\u001b[0m \u001b[0mnum_char\u001b[0m \u001b[0;34m+\u001b[0m \u001b[0;34m'characters.'\u001b[0m\u001b[0;34m)\u001b[0m\u001b[0;34m\u001b[0m\u001b[0;34m\u001b[0m\u001b[0m\n\u001b[0m",
            "\u001b[0;31mTypeError\u001b[0m: must be str, not int"
          ]
        }
      ]
    },
    {
      "cell_type": "code",
      "metadata": {
        "colab": {
          "base_uri": "https://localhost:8080/"
        },
        "id": "yE4sIge-_LSk",
        "outputId": "fab3a7e0-0fda-41ea-b079-8a47b0c4f388"
      },
      "source": [
        "# let's check what type num_char is\r\n",
        "type(num_char)"
      ],
      "execution_count": 24,
      "outputs": [
        {
          "output_type": "execute_result",
          "data": {
            "text/plain": [
              "int"
            ]
          },
          "metadata": {
            "tags": []
          },
          "execution_count": 24
        }
      ]
    },
    {
      "cell_type": "code",
      "metadata": {
        "colab": {
          "base_uri": "https://localhost:8080/"
        },
        "id": "Rl9rypyg_N4R",
        "outputId": "cc86fdd5-cc6b-4aff-932f-abf1a22801d7"
      },
      "source": [
        "# it's intefer, and we should change it to str(string)\r\n",
        "type(str(num_char))\r\n",
        "\r\n",
        "num_char = len(input('what is your aname? please :) \\r\\n'))\r\n",
        "print('Your name has ' + str(num_char) + ' characters.')"
      ],
      "execution_count": 26,
      "outputs": [
        {
          "output_type": "stream",
          "text": [
            "what is your aname? please :) \r\n",
            "Lily\n",
            "Your name has 4characters.\n"
          ],
          "name": "stdout"
        }
      ]
    }
  ]
}